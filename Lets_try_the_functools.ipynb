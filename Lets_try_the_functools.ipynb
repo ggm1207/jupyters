{
 "cells": [
  {
   "cell_type": "code",
   "execution_count": 1,
   "metadata": {},
   "outputs": [],
   "source": [
    "from functools import cmp_to_key, lru_cache, total_ordering, partial, partialmethod, reduce, singledispatch, update_wrapper, wraps"
   ]
  },
  {
   "cell_type": "markdown",
   "metadata": {},
   "source": [
    "## functools.cmp_to_key(func)\n",
    "----\n",
    "Transform an old-style comparison function to a key function. Used with tools that accept key functions (such as sorted(), min(), max(), heapq.nlargest(), heapq.nsmallest(), itertools.groupby()). This function is primarily used as a transition tool for programs being converted from Python 2 which supported the use of comparison functions.\n",
    "\n",
    "A comparison function is any callable that accept two arguments, compares them, and returns a negative number for less-than, zero for equality, or a positive number for greater-than. A key function is a callable that accepts one argument and returns another value to be used as the sort key.\n",
    "\n",
    "> python2 에서 쓰이던 cmp function을 key function으로 바꾸는 역할을 한다."
   ]
  },
  {
   "cell_type": "code",
   "execution_count": 23,
   "metadata": {},
   "outputs": [],
   "source": [
    "def fake_print(some):\n",
    "    print(some, end = ' ')"
   ]
  },
  {
   "cell_type": "code",
   "execution_count": 24,
   "metadata": {},
   "outputs": [],
   "source": [
    "def cmp_to_key(mycmp):\n",
    "    'Convert a cmp= funciton into a key= function'\n",
    "    class K:\n",
    "        def __init__(self, obj, *args):\n",
    "            fake_print(obj)\n",
    "            self.obj = obj\n",
    "        def __lt__(self, other):\n",
    "            fake_print(\"__lt__\")\n",
    "            return mycmp(self.obj, other.obj) < 0\n",
    "        def __gt__(self, other):\n",
    "            fake_print(\"__gt__\")\n",
    "            return mycmp(self.obj, other.obj) > 0\n",
    "        def __eq__(self, other):\n",
    "            fake_print(\"__eq__\")\n",
    "            return mycmp(self.obj, other.obj) == 0\n",
    "        def __le__(self, other):\n",
    "            fake_print(\"__le__\")\n",
    "            return mycmp(self.obj, other.obj) <= 0\n",
    "        def __ge__(self, other):\n",
    "            fake_print(\"__ge__\")\n",
    "            return mycmp(self.obj, other.obj) >= 0\n",
    "        def __ne__(self, other):\n",
    "            fake_print(\"__ne__\")\n",
    "            return mycmp(self.obj, other.obj) != 0\n",
    "    return K"
   ]
  },
  {
   "cell_type": "code",
   "execution_count": 25,
   "metadata": {},
   "outputs": [],
   "source": [
    "def reverse_numeric(x, y):\n",
    "    return y - x\n",
    "\n",
    "def numeric_compare(x, y):\n",
    "    return x - y"
   ]
  },
  {
   "cell_type": "code",
   "execution_count": 27,
   "metadata": {},
   "outputs": [
    {
     "name": "stdout",
     "output_type": "stream",
     "text": [
      "5 2 4 1 3 1 __lt__ __lt__ __lt__ __lt__ __lt__ __lt__ __lt__ __lt__ __lt__ __lt__ [5, 4, 3, 2, 1, 1]\n",
      "5 2 4 1 3 __lt__ __lt__ __lt__ __lt__ __lt__ __lt__ __lt__ __lt__ [1, 2, 3, 4, 5]\n"
     ]
    }
   ],
   "source": [
    "print(sorted([5,2,4,1,3,1], key = cmp_to_key(reverse_numeric))) # 버블 정렬처럼 비교해서 sort 하는거 같음.. \n",
    "print(sorted([5,2,4,1,3], key = cmp_to_key(numeric_compare))) # 안 쓸거 같으니깐 패스"
   ]
  },
  {
   "cell_type": "code",
   "execution_count": 32,
   "metadata": {},
   "outputs": [
    {
     "name": "stdout",
     "output_type": "stream",
     "text": [
      "5 2 4 1 3 __lt__ __lt__ __lt__ __lt__ __lt__ __lt__ __lt__ __lt__ [1, 2, 3, 4, 5]\n"
     ]
    }
   ],
   "source": [
    "def custom(x, y):\n",
    "    return x*x - y*y\n",
    "print(sorted([5,2,4,1,3], key = cmp_to_key(custom)))"
   ]
  },
  {
   "cell_type": "markdown",
   "metadata": {},
   "source": [
    "## @functools.lru_cache(maxsize=128, typed=False)\n",
    "### lru (least recently used)\n",
    "- - -\n",
    "Decorator to wrap a function with a memoizing callable that saves up to the maxsize most recent calls. It can save time when an expensive or I/O bound function is periodically called with the same arguments.\n",
    "\n",
    "Since a dictionary is used to cache results, the positional and keyword arguments to the function must be hashable.\n",
    "\n",
    "Distinct argument patterns may be considered to be distinct calls with separate cache entries. For example, f(a=1, b=2) and f(b=2, a=1) differ in their keyword argument order and may have two separate cache entries.\n",
    "\n",
    "If maxsize is set to None, the LRU feature is disabled and the cache can grow without bound. The LRU feature performs best when maxsize is a power-of-two.\n",
    "\n",
    "If typed is set to true, function arguments of different types will be cached separately. For example, f(3) and f(3.0) will be treated as distinct calls with distinct results.\n",
    "\n",
    "To help measure the effectiveness of the cache and tune the maxsize parameter, the wrapped function is instrumented with a cache_info() function that returns a named tuple showing hits, misses, maxsize and currsize. In a multi-threaded environment, the hits and misses are approximate.\n",
    "\n",
    "The decorator also provides a cache_clear() function for clearing or invalidating the cache.\n",
    "\n",
    "The original underlying function is accessible through the __wrapped__ attribute. This is useful for introspection, for bypassing the cache, or for rewrapping the function with a different cache.\n",
    "\n",
    "An LRU (least recently used) cache works best when the most recent calls are the best predictors of upcoming calls (for example, the most popular articles on a news server tend to change each day). The cache’s size limit assures that the cache does not grow without bound on long-running processes such as web servers.\n",
    "\n",
    "In general, the LRU cache should only be used when you want to reuse previously computed values. Accordingly, it doesn’t make sense to cache functions with side-effects, functions that need to create distinct mutable objects on each call, or impure functions such as time() or random().\n",
    "\n",
    "##### 페이지 교체 알고리즘으로 배웠던 lru 이다. \n",
    "##### 그래서 오랜만에 다시 복습\n",
    "> LRU (Least Recently Used) : 최근에 사용하지 않은 페이지를 교체 <br>\n",
    "LFU (Least Frequently Used) : 사용 횟수가 가장 적은 페이지를 교체 <br>\n",
    "NUR (Not Used Recently) : 최근에 사용하지 않은 페이지를 교체 <br>\n",
    "FIFO(Fisrt In First Out) : 먼저 적재한 페이지부터 교체 <br>\n",
    "MFU(Most Frequently Used) : 사용 횟수가 가장 많은 페이지를 교체 <br>\n",
    "OPT(OPTimal replacement) : 가장 오랫동안 사용하지 않을 것으로 예측한 페이지를 교체 (이상적이지만 구현할 수 없음.) <br>\n",
    "SCR(Second Chance Replacement) : FIFO 기법의 단점을 보완하는 기법으로 교체 대상을 판별하기 전에 참조 비트를 검사하여 1일 때 한 번의 기회를 더 부여\n",
    "참조 비트가 1이면 큐의 맨 뒤로 피드백.\n"
   ]
  },
  {
   "cell_type": "code",
   "execution_count": 34,
   "metadata": {},
   "outputs": [],
   "source": [
    "import urllib\n",
    "@lru_cache(maxsize=32)\n",
    "def get_pep(num):\n",
    "    'Retrieve text of a Python Enghancement Proposal'\n",
    "    resource = 'http://www.python.org/dev/peps/pep-%04d/' % num\n",
    "    try:\n",
    "        with urllib.request.urlopen(resource) as s:\n",
    "            return s.read()\n",
    "    except urllib.error.HTTPError:\n",
    "        return 'Not Found'"
   ]
  },
  {
   "cell_type": "code",
   "execution_count": 35,
   "metadata": {
    "scrolled": true
   },
   "outputs": [
    {
     "name": "stdout",
     "output_type": "stream",
     "text": [
      "8 105879\n",
      "290 59822\n",
      "308 57028\n",
      "320 49607\n",
      "8 105879\n",
      "218 46851\n",
      "320 49607\n",
      "279 48609\n",
      "289 50938\n",
      "320 49607\n",
      "9991 9\n"
     ]
    }
   ],
   "source": [
    "for n in 8, 290, 308, 320, 8, 218, 320, 279, 289, 320, 9991:\n",
    "    pep = get_pep(n)\n",
    "    print(n, len(pep))"
   ]
  },
  {
   "cell_type": "code",
   "execution_count": 37,
   "metadata": {},
   "outputs": [
    {
     "data": {
      "text/plain": [
       "CacheInfo(hits=3, misses=8, maxsize=32, currsize=8)"
      ]
     },
     "execution_count": 37,
     "metadata": {},
     "output_type": "execute_result"
    }
   ],
   "source": [
    "get_pep.cache_info()"
   ]
  },
  {
   "cell_type": "code",
   "execution_count": 69,
   "metadata": {},
   "outputs": [],
   "source": [
    "@lru_cache(maxsize=3)\n",
    "def fib(n):\n",
    "    if n < 2:\n",
    "        return n\n",
    "    return fib(n-1) + fib(n-2)"
   ]
  },
  {
   "cell_type": "code",
   "execution_count": 70,
   "metadata": {},
   "outputs": [
    {
     "data": {
      "text/plain": [
       "[0, 1, 1, 2, 3, 5, 8, 13, 21, 34, 55, 89, 144, 233, 377, 610]"
      ]
     },
     "execution_count": 70,
     "metadata": {},
     "output_type": "execute_result"
    }
   ],
   "source": [
    "[fib(n) for n in range(16)] # 와... 역시 cache\n",
    "# fibonacci 에서는 lfu 가 더 좋지 않을까... 생각만 해봅니다.\n",
    "# 다시 생각해보니 dp 처럼 작동해서 lru가 최고 일 듯"
   ]
  },
  {
   "cell_type": "code",
   "execution_count": 71,
   "metadata": {},
   "outputs": [
    {
     "name": "stdout",
     "output_type": "stream",
     "text": [
      "CacheInfo(hits=28, misses=16, maxsize=3, currsize=3)\n"
     ]
    },
    {
     "data": {
      "text/plain": [
       "'설명\\ncache hit: 참조하려는 데이터가 캐시에 존재할 때 캐시 히트라 한다.\\ncache miss: 참조하려는 데이터가 캐시에 존재 하지 않을 때 캐시 미스라 한다.\\ncache hit ratio : 적중률 = (캐시히트횟수) / (전체참조횟수)\\n'"
      ]
     },
     "execution_count": 71,
     "metadata": {},
     "output_type": "execute_result"
    }
   ],
   "source": [
    "print(fib.cache_info())\n",
    "\"\"\"설명\n",
    "cache hit: 참조하려는 데이터가 캐시에 존재할 때 캐시 히트라 한다.\n",
    "cache miss: 참조하려는 데이터가 캐시에 존재 하지 않을 때 캐시 미스라 한다.\n",
    "cache hit ratio : 적중률 = (캐시히트횟수) / (전체참조횟수)\n",
    "\"\"\""
   ]
  },
  {
   "cell_type": "markdown",
   "metadata": {},
   "source": [
    "## @functools.total_ordering\n",
    "- - -\n",
    "Given a class defining one or more rich comparison ordering methods, this class decorator supplies the rest. This simplifies the effort involved in specifying all of the possible rich comparison operations:\n",
    "\n",
    "The class must define one of __lt__(), __le__(), __gt__(), or __ge__(). In addition, the class should supply an __eq__() method.\n",
    "> eq() 방법과 , lt(), le(), ge(), gt() 중 한 가지를 작성하면 나머지 방법을 자동으로 작성해준다."
   ]
  },
  {
   "cell_type": "code",
   "execution_count": 99,
   "metadata": {},
   "outputs": [],
   "source": [
    "@total_ordering\n",
    "class Student:\n",
    "    def __init__(self, lastname, firstname):\n",
    "        self.lastname = lastname\n",
    "        self.firstname = firstname\n",
    "    def __eq__(self, other):\n",
    "        return ((self.lastname.lower(), self.firstname.lower()) == (other.lastname.lower(), other.firstname.lower()))\n",
    "    def __lt__(self, other):\n",
    "        return ((self.lastname.lower(), self.firstname.lower()) < (other.lastname.lower(), other.firstname.lower()))"
   ]
  },
  {
   "cell_type": "code",
   "execution_count": 100,
   "metadata": {},
   "outputs": [],
   "source": [
    "st1 = Student(\"gunmo\",\"Goo\")\n",
    "st2 = Student(\"jina\",\"baek\")"
   ]
  },
  {
   "cell_type": "code",
   "execution_count": 102,
   "metadata": {},
   "outputs": [
    {
     "name": "stdout",
     "output_type": "stream",
     "text": [
      "False\n",
      "True\n",
      "False\n",
      "True\n",
      "False\n",
      "True\n"
     ]
    }
   ],
   "source": [
    "print(st1 == st2)\n",
    "print(st1 == st1)\n",
    "print(st1 > st2)\n",
    "print(st1 < st2)\n",
    "print(st1 >= st2)\n",
    "print(st1 <= st2)"
   ]
  },
  {
   "cell_type": "markdown",
   "metadata": {},
   "source": [
    "## functools.partial(func, *args, **keywords)\n",
    "\n",
    "Return a new partial object which when called will behave like func called with the positional arguments args and keyword arguments keywords. If more arguments are supplied to the call, they are appended to args. If additional keyword arguments are supplied, they extend and override keywords. Roughly equivalent to:\n",
    "> partial object를 돌려주는 함수. partial object는 args와 keywords를 가지고 함수처럼 작동합니다.<br>\n",
    "args가 추가되면 더하고 keywords가 추가되면 재생성한다.\n",
    "\n",
    "```python\n",
    "def partial(func, *args, **keywords):\n",
    "    def newfunc(*fargs, **fkeywords):\n",
    "        newkeywords = keywords.copy()\n",
    "        newkeywords.update(fkeywords)\n",
    "        return func(*args, *fargs, **newkeywords)\n",
    "    newfunc.func = func\n",
    "    newfunc.args = args\n",
    "    newfunc.keywords = keywords\n",
    "    return newfunc\n",
    "```\n",
    "\n",
    "The partial() is used for partial function application which “freezes” some portion of a function’s arguments and/or keywords resulting in a new object with a simplified signature. For example, partial() can be used to create a callable that behaves like the int() function where the base argument defaults to two:\n",
    "\n",
    "##### partial object\n",
    "> partial objects are callable objects created by partial(). They have three read-only attributes: <br>\n",
    "partial.func :\n",
    "A callable object or function. Calls to the partial object will be forwarded to func with new arguments and keywords.\n",
    "<br>partial.args :\n",
    "The leftmost positional arguments that will be prepended to the positional arguments provided to a partial object call.\n",
    "<br>partial.keywords :\n",
    "The keyword arguments that will be supplied when the partial object is called."
   ]
  },
  {
   "cell_type": "code",
   "execution_count": 104,
   "metadata": {},
   "outputs": [],
   "source": [
    "basetwo = partial(int, base = 2)"
   ]
  },
  {
   "cell_type": "code",
   "execution_count": 107,
   "metadata": {},
   "outputs": [
    {
     "name": "stdout",
     "output_type": "stream",
     "text": [
      "<class 'int'>\n",
      "()\n",
      "{'base': 2}\n"
     ]
    }
   ],
   "source": [
    "print(basetwo.func)\n",
    "print(basetwo.args)\n",
    "print(basetwo.keywords)"
   ]
  },
  {
   "cell_type": "code",
   "execution_count": 109,
   "metadata": {},
   "outputs": [
    {
     "data": {
      "text/plain": [
       "18"
      ]
     },
     "execution_count": 109,
     "metadata": {},
     "output_type": "execute_result"
    }
   ],
   "source": [
    "basetwo.__doc__ = 'Convert base 2 string to an int.'\n",
    "basetwo('10010')"
   ]
  },
  {
   "cell_type": "code",
   "execution_count": 113,
   "metadata": {},
   "outputs": [
    {
     "data": {
      "text/plain": [
       "18"
      ]
     },
     "execution_count": 113,
     "metadata": {},
     "output_type": "execute_result"
    }
   ],
   "source": [
    "int('10010', base = 2)"
   ]
  },
  {
   "cell_type": "code",
   "execution_count": 115,
   "metadata": {},
   "outputs": [
    {
     "data": {
      "text/plain": [
       "84"
      ]
     },
     "execution_count": 115,
     "metadata": {},
     "output_type": "execute_result"
    }
   ],
   "source": [
    "basetwo('10010', base = 3)"
   ]
  },
  {
   "cell_type": "markdown",
   "metadata": {},
   "source": [
    "## class functools.partialmethod(func, *args, **keywords)\n",
    "\n",
    "Return a new partialmethod descriptor which behaves like partial except that it is designed to be used as a method definition rather than being directly callable.\n",
    "\n",
    "func must be a descriptor or a callable (objects which are both, like normal functions, are handled as descriptors).\n",
    "\n",
    "When func is a descriptor (such as a normal Python function, classmethod(), staticmethod(), abstractmethod() or another instance of partialmethod), calls to __get__ are delegated to the underlying descriptor, and an appropriate partial object returned as the result.\n",
    "\n",
    "When func is a non-descriptor callable, an appropriate bound method is created dynamically. This behaves like a normal Python function when used as a method: the self argument will be inserted as the first positional argument, even before the args and keywords supplied to the partialmethod constructor.\n",
    "\n",
    "> descriptor : class임"
   ]
  },
  {
   "cell_type": "code",
   "execution_count": 126,
   "metadata": {},
   "outputs": [],
   "source": [
    "class Cell(object):\n",
    "    def __init__(self):\n",
    "        self._alive = False\n",
    "        \n",
    "    @property\n",
    "    def alive(self):\n",
    "        return self._alive\n",
    "\n",
    "    def set_state(self, state):\n",
    "        self._alive = bool(state)\n",
    "    \n",
    "    set_alive = partialmethod(set_state, True)\n",
    "    set_a = partial(set_state, state = True)\n",
    "    set_dead = partialmethod(set_state, False)"
   ]
  },
  {
   "cell_type": "code",
   "execution_count": 127,
   "metadata": {},
   "outputs": [
    {
     "data": {
      "text/plain": [
       "False"
      ]
     },
     "execution_count": 127,
     "metadata": {},
     "output_type": "execute_result"
    }
   ],
   "source": [
    "c = Cell()\n",
    "c.alive"
   ]
  },
  {
   "cell_type": "code",
   "execution_count": 128,
   "metadata": {},
   "outputs": [],
   "source": [
    "c.set_a() "
   ]
  },
  {
   "cell_type": "code",
   "execution_count": 129,
   "metadata": {},
   "outputs": [
    {
     "data": {
      "text/plain": [
       "True"
      ]
     },
     "execution_count": 129,
     "metadata": {},
     "output_type": "execute_result"
    }
   ],
   "source": [
    "c.alive"
   ]
  },
  {
   "cell_type": "markdown",
   "metadata": {},
   "source": [
    "## functools.reduce(function, iterable[, initializer])\n",
    "\n",
    "Apply function of two arguments cumulatively to the items of sequence, from left to right, so as to reduce the sequence to a single value. For example, reduce(lambda x, y: x+y, [1, 2, 3, 4, 5]) calculates ((((1+2)+3)+4)+5). The left argument, x, is the accumulated value and the right argument, y, is the update value from the sequence. If the optional initializer is present, it is placed before the items of the sequence in the calculation, and serves as a default when the sequence is empty. If initializer is not given and sequence contains only one item, the first item is returned.\n",
    "\n",
    "Roughly equivalent to:\n",
    "```python\n",
    "def reduce(function, iterable, initializer=None):\n",
    "    it = iter(iterable)\n",
    "    if initializer is None:\n",
    "        value = next(it)\n",
    "    else:\n",
    "        value = initializer\n",
    "    for element in it:\n",
    "        value = function(value, element)\n",
    "    return value\n",
    "```"
   ]
  },
  {
   "cell_type": "markdown",
   "metadata": {},
   "source": [
    "## @functools.singledispatch\n",
    "\n",
    "Transform a function into a single-dispatch generic function.\n",
    "\n",
    "To define a generic function, decorate it with the @singledispatch decorator. Note that the dispatch happens on the type of the first argument, create your function accordingly:\n",
    "\n",
    "> 파이썬에서 제네릭 함수를 정의하게 해준다. <br><br>\n",
    "\n",
    "##### 제네릭 함수\n",
    "\n",
    "> 어떤 하나의 함수 (혹은 겉으로 보기에 이름이 다른 여러 다른 함수)가 여러 타입의 인자를 받고, 인자의 타입에 따라 적절한 동작을 하는 함수를 제네릭 함수라고 한다. C++이나 Swift에 이런 제네릭 관련 기능이 언어 레벨에서 지원되는데, 사실 파이썬은 동적 타입 언어이기 때문에 언어수준의 명시적인 제네릭 지원 기능은 없다.\n",
    "\n",
    "##### 추가 설명\n",
    "\n",
    "> 제네릭(Generic)은 함수나 다른 타입에 의존하는 타입을 정의할 때, 인자나 중첩된 타입의 인자에 구애받지 않고, 같은 이름의 함수를 인자 타입에 따라 반복적으로 정의하지 않아도 되도록 하는 정적 언어의 편의 장치라고 보면 된다. 그런데 동적 언어는 선언이나 정의의 시점에 타입은 거의 결정되지 않는다. 따라서 파이썬은 제네릭이라는 문법 장치를 도입할 필요가 없다.\n",
    "\n",
    "출처 : https://soooprmx.com/archives/5852"
   ]
  },
  {
   "cell_type": "code",
   "execution_count": 137,
   "metadata": {},
   "outputs": [],
   "source": [
    "@singledispatch\n",
    "def fun(arg, verbose=False):\n",
    "    if verbose:\n",
    "        print(\"Let me just say,\", end=\" \")\n",
    "    print(arg)"
   ]
  },
  {
   "cell_type": "markdown",
   "metadata": {},
   "source": [
    "To add overloaded implementations to the function, use the register() attribute of the generic function. It is a decorator. For functions annotated with types, the decorator will infer the type of the first argument automatically:"
   ]
  },
  {
   "cell_type": "code",
   "execution_count": 138,
   "metadata": {},
   "outputs": [],
   "source": [
    "@fun.register\n",
    "def _(arg:int, verbose=False):\n",
    "    if verbose:\n",
    "        print('Strength in numbers, eh?', end = \" \")\n",
    "    print(arg)"
   ]
  },
  {
   "cell_type": "code",
   "execution_count": 139,
   "metadata": {},
   "outputs": [],
   "source": [
    "@fun.register\n",
    "def _(arg:list, verbose=False):\n",
    "    if verbose:\n",
    "        print('Enumerate this:')\n",
    "    for i, elem in enumerate(arg):\n",
    "        print(i, elem)"
   ]
  },
  {
   "cell_type": "markdown",
   "metadata": {},
   "source": [
    "For code which doesn’t use type annotations, the appropriate type argument can be passed explicitly to the decorator itself:"
   ]
  },
  {
   "cell_type": "code",
   "execution_count": 140,
   "metadata": {},
   "outputs": [],
   "source": [
    "@fun.register(complex)\n",
    "def _(arg, verbose = False):\n",
    "    if verbose:\n",
    "        print(\"Better than complicated.\", end = \" \")\n",
    "    print(arg.real, arg.imag)"
   ]
  },
  {
   "cell_type": "markdown",
   "metadata": {},
   "source": [
    "To enable registering lambdas and pre-existing functions, the register() attribute can be used in a functional form:"
   ]
  },
  {
   "cell_type": "code",
   "execution_count": 141,
   "metadata": {},
   "outputs": [],
   "source": [
    "def nothing(arg, verbose = False):\n",
    "    print(\"Nothing.\")"
   ]
  },
  {
   "cell_type": "code",
   "execution_count": 142,
   "metadata": {},
   "outputs": [
    {
     "data": {
      "text/plain": [
       "<function __main__.nothing(arg, verbose=False)>"
      ]
     },
     "execution_count": 142,
     "metadata": {},
     "output_type": "execute_result"
    }
   ],
   "source": [
    "fun.register(type(None), nothing)"
   ]
  },
  {
   "cell_type": "markdown",
   "metadata": {},
   "source": [
    "The register() attribute returns the undecorated function which enables decorator stacking, pickling, as well as creating unit tests for each variant independently:"
   ]
  },
  {
   "cell_type": "code",
   "execution_count": 145,
   "metadata": {},
   "outputs": [],
   "source": [
    "from decimal import *\n",
    "@fun.register(float)\n",
    "@fun.register(Decimal)\n",
    "def fun_num(arg, verbose=False):\n",
    "    if verbose:\n",
    "        print(\"Half of your number:\", end = \" \")\n",
    "    print(arg / 2)"
   ]
  },
  {
   "cell_type": "code",
   "execution_count": 147,
   "metadata": {},
   "outputs": [
    {
     "name": "stdout",
     "output_type": "stream",
     "text": [
      "Hello, world.\n",
      "Let me just say, test.\n",
      "Strength in numbers, eh? 42\n",
      "Enumerate this:\n",
      "0 spam\n",
      "1 spam\n",
      "2 eggs\n",
      "3 spam\n",
      "Nothing.\n",
      "0.615\n"
     ]
    }
   ],
   "source": [
    "fun(\"Hello, world.\")\n",
    "fun(\"test.\", verbose=True)\n",
    "fun(42, verbose=True)\n",
    "fun(['spam','spam','eggs','spam'], verbose=True)\n",
    "fun(None)\n",
    "fun(1.23)"
   ]
  },
  {
   "cell_type": "markdown",
   "metadata": {},
   "source": [
    "Where there is no registered implementation for a specific type, its method resolution order is used to find a more generic implementation. The original function decorated with @singledispatch is registered for the base object type, which means it is used if no better implementation is found.\n",
    "\n",
    "To check which implementation will the generic function choose for a given type, use the dispatch() attribute:"
   ]
  },
  {
   "cell_type": "code",
   "execution_count": 149,
   "metadata": {},
   "outputs": [
    {
     "name": "stdout",
     "output_type": "stream",
     "text": [
      "<function fun_num at 0x7f36f43f89d8>\n",
      "<function fun at 0x7f36f43f8598>\n"
     ]
    }
   ],
   "source": [
    "print(fun.dispatch(float))\n",
    "print(fun.dispatch(dict))"
   ]
  },
  {
   "cell_type": "markdown",
   "metadata": {},
   "source": [
    "To access all registered implementations, use the read-only registry attribute:"
   ]
  },
  {
   "cell_type": "code",
   "execution_count": 156,
   "metadata": {},
   "outputs": [
    {
     "name": "stdout",
     "output_type": "stream",
     "text": [
      "dict_keys([<class 'object'>, <class 'int'>, <class 'list'>, <class 'complex'>, <class 'NoneType'>, <class 'decimal.Decimal'>, <class 'float'>])\n",
      "<function fun_num at 0x7f36f43f89d8>\n",
      "<function fun at 0x7f36f43f8598>\n",
      "<function fun_num at 0x7f36f43f89d8>\n"
     ]
    }
   ],
   "source": [
    "print(fun.registry.keys())\n",
    "print(fun.registry[float])\n",
    "print(fun.registry[object])\n",
    "print(fun.registry[Decimal]) ## ?"
   ]
  },
  {
   "cell_type": "markdown",
   "metadata": {},
   "source": [
    "## functools.update_wrapper(wrapper, wrapped, assigned = WRAPPER_ASSIGNMENTS, updated = WRAPPER_UPDATES)\n",
    "\n",
    "Update a wrapper function to look like the wrapped function. The optional arguments are tuples to specify which attributes of the original function are assigned directly to the matching attributes on the wrapper function and which attributes of the wrapper function are updated with the corresponding attributes from the original function. The default values for these arguments are the module level constants WRAPPER_ASSIGNMENTS (which assigns to the wrapper function’s __module__, __name__, __qualname__, __annotations__ and __doc__, the documentation string) and WRAPPER_UPDATES (which updates the wrapper function’s __dict__, i.e. the instance dictionary).\n",
    "\n",
    "To allow access to the original function for introspection and other purposes (e.g. bypassing a caching decorator such as lru_cache()), this function automatically adds a __wrapped__ attribute to the wrapper that refers to the function being wrapped.\n",
    "\n",
    "The main intended use for this function is in decorator functions which wrap the decorated function and return the wrapper. If the wrapper function is not updated, the metadata of the returned function will reflect the wrapper definition rather than the original function definition, which is typically less than helpful.\n",
    "\n",
    "update_wrapper() may be used with callables other than functions. Any attributes named in assigned or updated that are missing from the object being wrapped are ignored (i.e. this function will not attempt to set them on the wrapper function). AttributeError is still raised if the wrapper function itself is missing any attributes named in updated.\n",
    "```\n",
    "wrapper 함수를 wrapped 함수처럼 보이도록 갱신한다. optional argument는 튜플로써 원래의 함수에서 <br>\n",
    "\n",
    "1. 원래 함수의 어떤 속성을 wrapper 함수에 매칭시킬지\n",
    "2. wrapper 함수의 어떤 attributes를 원해 함수의 값으로 업데이트 할지 명시한다.\n",
    "    \n",
    "이 optional argument는 모듈 수준의 상수인 WRAPPER_ASSIGNMENTS 와 WAPPER_UPDATES 이다.\n",
    "\n",
    "만약 원래의 함수를 introspection 하거나, \n",
    "다른 목적을 (예를 들어, caching decorator 인 lru_cache() 를 우회한다거나) 으로 접근을 허용하기 위해 \n",
    "이 함수는 자동으로 __wrapped__ attribute 를 추가하여, 원래의 함수를 참조할 수 있도록 합니다\n",
    "\n",
    "이 함수의 목적은 어떤 함수를 decorated 하여 wrapper 로 반환하는 데코레이터 함수내에서 사용한다. \n",
    "만약, wrapper 함수가 갱신되지 않는다면, 반환된 함수(wrapper function) 의 메타데이터는 원래의 함수의 \n",
    "정의를 투영하지 않고, 그 정보는 유용하지 않을 것이다.\n",
    "```\n",
    "더 나아가서 파이썬의 함수 객체는 몇 가지 추가적인 attributes가 있다.\n",
    "\n",
    "```c\n",
    "// include/funcobject.h # 21\n",
    "typedef struct {\n",
    "  PyObject_HEAD\n",
    "  PyObject *func_code;        /* A code object, the __code__ attribute */\n",
    "  PyObject *func_globals;     /* A dictionary (other mappings won't do) */\n",
    "  PyObject *func_defaults;    /* NULL or a tuple */\n",
    "  PyObject *func_kwdefaults;  /* NULL or a dict */\n",
    "  PyObject *func_closure;     /* NULL or a tuple of cell objects */\n",
    "  PyObject *func_doc;         /* The __doc__ attribute, can be anything */\n",
    "  PyObject *func_name;        /* The __name__ attribute, a string object */\n",
    "  PyObject *func_dict;        /* The __dict__ attribute, a dict or NULL */\n",
    "  PyObject *func_weakreflist; /* List of weak references */\n",
    "  PyObject *func_module;      /* The __module__ attribute, can be anything */\n",
    "  PyObject *func_annotations; /* Annotations, a dict or NULL */\n",
    "  PyObject *func_qualname;    /* The qualified name */\n",
    "\n",
    "  /* Invariant:\n",
    "   *   func_closure contains the bindings for func_code->co_freevars, so\n",
    "   *   PyTuple_Size(func_closure) == PyCode_GetNumFree(func_code)\n",
    "   *   (func_closure may be NULL if PyCode_GetNumFree(func_code) == 0).\n",
    "  */\n",
    "} PyFunctionObject;\n",
    "```\n",
    "\n",
    "문서에 등장한 각 상수에 대해 설명하자면\n",
    "\n",
    "> WRAPPER_ASSIGNMENTS : *func_doc , *func_name, *func_module 를 의미 <br>\n",
    "WRAPPER_UPDATES : *func_dict 를 의미 <br>\n",
    "\n",
    "출처 : https://velog.io/@doondoony/python-functools-wraps\n"
   ]
  },
  {
   "cell_type": "code",
   "execution_count": 31,
   "metadata": {},
   "outputs": [],
   "source": [
    "def wrapper(*args, **kwargs):\n",
    "    print('called wrapper')\n",
    "    pass\n",
    "\n",
    "def add(a, b):\n",
    "    \"\"\" ADD a + b \"\"\"\n",
    "    return a + b"
   ]
  },
  {
   "cell_type": "code",
   "execution_count": 32,
   "metadata": {},
   "outputs": [
    {
     "name": "stdout",
     "output_type": "stream",
     "text": [
      "None\n",
      "wrapper\n",
      " ADD a + b \n",
      "add\n"
     ]
    }
   ],
   "source": [
    "print(wrapper.__doc__) # None\n",
    "print(wrapper.__name__) # wrapper\n",
    "add = update_wrapper(wrapper, add) # wrapped 된 add 함수를 반환\n",
    "print(wrapper.__doc__)\n",
    "print(wrapper.__name__)"
   ]
  },
  {
   "cell_type": "code",
   "execution_count": 35,
   "metadata": {},
   "outputs": [
    {
     "name": "stdout",
     "output_type": "stream",
     "text": [
      "called wrapper\n",
      "None\n"
     ]
    }
   ],
   "source": [
    "print(wrapper(1,2)) # wrapper 의 WRAPPER_ASSIGNMENTS, WRAPPER_UPDATES 가 업데이트 된 것을 확인할 수 있다."
   ]
  },
  {
   "cell_type": "markdown",
   "metadata": {},
   "source": [
    "## functools.wraps(wrapped, assigned=WRAPPER_ASSIGNMENTS, updated=WRAPPER_UPDATES)\n",
    "\n",
    "This is a convenience function for invoking update_wrapper() as a function decorator when defining a wrapper function. It is equivalent to partial(update_wrapper, wrapped=wrapped, assigned=assigned, updated=updated). \n",
    "\n",
    "> wrapper 함수를 정의 할 때 update_wrapper()를 함수 데코레이터로써 호출하는 편리한 함수입니다.\n",
    "\n",
    "For example:"
   ]
  },
  {
   "cell_type": "code",
   "execution_count": 2,
   "metadata": {},
   "outputs": [],
   "source": [
    "def my_decorator(f):\n",
    "    @wraps(f) # update_wrapper를 함수 데코레이터로써 호출\n",
    "    def wrapper(*args, **kwds):\n",
    "        print('Calling decorated function')\n",
    "        return f(*args, **kwds)\n",
    "    return wrapper"
   ]
  },
  {
   "cell_type": "code",
   "execution_count": 3,
   "metadata": {},
   "outputs": [],
   "source": [
    "@my_decorator\n",
    "def example():\n",
    "    \"\"\"Docstring\"\"\"\n",
    "    print(\"Called example function\")"
   ]
  },
  {
   "cell_type": "code",
   "execution_count": 4,
   "metadata": {},
   "outputs": [
    {
     "name": "stdout",
     "output_type": "stream",
     "text": [
      "Calling decorated function\n",
      "Called example function\n"
     ]
    }
   ],
   "source": [
    "example()"
   ]
  },
  {
   "cell_type": "code",
   "execution_count": 5,
   "metadata": {},
   "outputs": [
    {
     "name": "stdout",
     "output_type": "stream",
     "text": [
      "example\n",
      "Docstring\n"
     ]
    }
   ],
   "source": [
    "print(example.__name__) # wraps를 쓰지 않았다면 decorator의 함수 이름이 출력된다.\n",
    "print(example.__doc__) # wraps를 쓰지 않았다면 decorator의 doc string 이 출력된다."
   ]
  },
  {
   "cell_type": "markdown",
   "metadata": {},
   "source": [
    "Without the use of this decorator factory, the name of the example function would have been 'wrapper', and the docstring of the original example() would have been lost."
   ]
  },
  {
   "cell_type": "code",
   "execution_count": 39,
   "metadata": {},
   "outputs": [],
   "source": [
    "def adder(a, b, c, *args): return a + b + c + sum(args)"
   ]
  },
  {
   "cell_type": "code",
   "execution_count": 40,
   "metadata": {},
   "outputs": [],
   "source": [
    "new_adder = partial(adder, 1,2,3,4,5)"
   ]
  },
  {
   "cell_type": "code",
   "execution_count": 41,
   "metadata": {},
   "outputs": [
    {
     "data": {
      "text/plain": [
       "30"
      ]
     },
     "execution_count": 41,
     "metadata": {},
     "output_type": "execute_result"
    }
   ],
   "source": [
    "new_adder(4, 5, 6)"
   ]
  },
  {
   "cell_type": "markdown",
   "metadata": {},
   "source": [
    "```python\n",
    "functools.wraps(func) == partial(update_wrapper, wrapper =func)\n",
    "```\n",
    "functools.wraps(func) 은 update_wrapper 함수를 적용 wrapper 에다가 func 넘겨줌"
   ]
  }
 ],
 "metadata": {
  "kernelspec": {
   "display_name": "Python 3",
   "language": "python",
   "name": "python3"
  },
  "language_info": {
   "codemirror_mode": {
    "name": "ipython",
    "version": 3
   },
   "file_extension": ".py",
   "mimetype": "text/x-python",
   "name": "python",
   "nbconvert_exporter": "python",
   "pygments_lexer": "ipython3",
   "version": "3.6.9"
  }
 },
 "nbformat": 4,
 "nbformat_minor": 2
}
