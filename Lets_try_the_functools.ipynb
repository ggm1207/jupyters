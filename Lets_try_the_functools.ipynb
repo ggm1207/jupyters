{
 "cells": [
  {
   "cell_type": "code",
   "execution_count": 1,
   "metadata": {},
   "outputs": [],
   "source": [
    "from functools import cmp_to_key, lru_cache, total_ordering, partial, partialmethod, reduce, singledispatch, update_wrapper, wraps"
   ]
  },
  {
   "cell_type": "markdown",
   "metadata": {},
   "source": [
    "## functools.cmp_to_key(func)\n",
    "----\n",
    "Transform an old-style comparison function to a key function. Used with tools that accept key functions (such as sorted(), min(), max(), heapq.nlargest(), heapq.nsmallest(), itertools.groupby()). This function is primarily used as a transition tool for programs being converted from Python 2 which supported the use of comparison functions.\n",
    "\n",
    "A comparison function is any callable that accept two arguments, compares them, and returns a negative number for less-than, zero for equality, or a positive number for greater-than. A key function is a callable that accepts one argument and returns another value to be used as the sort key.\n",
    "\n",
    "> python2 에서 쓰이던 cmp function을 key function으로 바꾸는 역할을 한다."
   ]
  },
  {
   "cell_type": "code",
   "execution_count": 23,
   "metadata": {},
   "outputs": [],
   "source": [
    "def fake_print(some):\n",
    "    print(some, end = ' ')"
   ]
  },
  {
   "cell_type": "code",
   "execution_count": 24,
   "metadata": {},
   "outputs": [],
   "source": [
    "def cmp_to_key(mycmp):\n",
    "    'Convert a cmp= funciton into a key= function'\n",
    "    class K:\n",
    "        def __init__(self, obj, *args):\n",
    "            fake_print(obj)\n",
    "            self.obj = obj\n",
    "        def __lt__(self, other):\n",
    "            fake_print(\"__lt__\")\n",
    "            return mycmp(self.obj, other.obj) < 0\n",
    "        def __gt__(self, other):\n",
    "            fake_print(\"__gt__\")\n",
    "            return mycmp(self.obj, other.obj) > 0\n",
    "        def __eq__(self, other):\n",
    "            fake_print(\"__eq__\")\n",
    "            return mycmp(self.obj, other.obj) == 0\n",
    "        def __le__(self, other):\n",
    "            fake_print(\"__le__\")\n",
    "            return mycmp(self.obj, other.obj) <= 0\n",
    "        def __ge__(self, other):\n",
    "            fake_print(\"__ge__\")\n",
    "            return mycmp(self.obj, other.obj) >= 0\n",
    "        def __ne__(self, other):\n",
    "            fake_print(\"__ne__\")\n",
    "            return mycmp(self.obj, other.obj) != 0\n",
    "    return K"
   ]
  },
  {
   "cell_type": "code",
   "execution_count": 25,
   "metadata": {},
   "outputs": [],
   "source": [
    "def reverse_numeric(x, y):\n",
    "    return y - x\n",
    "\n",
    "def numeric_compare(x, y):\n",
    "    return x - y"
   ]
  },
  {
   "cell_type": "code",
   "execution_count": 27,
   "metadata": {},
   "outputs": [
    {
     "name": "stdout",
     "output_type": "stream",
     "text": [
      "5 2 4 1 3 1 __lt__ __lt__ __lt__ __lt__ __lt__ __lt__ __lt__ __lt__ __lt__ __lt__ [5, 4, 3, 2, 1, 1]\n",
      "5 2 4 1 3 __lt__ __lt__ __lt__ __lt__ __lt__ __lt__ __lt__ __lt__ [1, 2, 3, 4, 5]\n"
     ]
    }
   ],
   "source": [
    "print(sorted([5,2,4,1,3,1], key = cmp_to_key(reverse_numeric))) # 버블 정렬처럼 비교해서 sort 하는거 같음.. \n",
    "print(sorted([5,2,4,1,3], key = cmp_to_key(numeric_compare))) # 안 쓸거 같으니깐 패스"
   ]
  },
  {
   "cell_type": "code",
   "execution_count": 32,
   "metadata": {},
   "outputs": [
    {
     "name": "stdout",
     "output_type": "stream",
     "text": [
      "5 2 4 1 3 __lt__ __lt__ __lt__ __lt__ __lt__ __lt__ __lt__ __lt__ [1, 2, 3, 4, 5]\n"
     ]
    }
   ],
   "source": [
    "def custom(x, y):\n",
    "    return x*x - y*y\n",
    "print(sorted([5,2,4,1,3], key = cmp_to_key(custom)))"
   ]
  },
  {
   "cell_type": "markdown",
   "metadata": {},
   "source": [
    "## @functools.lru_cache(maxsize=128, typed=False)\n",
    "### lru (least recently used)\n",
    "- - -\n",
    "Decorator to wrap a function with a memoizing callable that saves up to the maxsize most recent calls. It can save time when an expensive or I/O bound function is periodically called with the same arguments.\n",
    "\n",
    "Since a dictionary is used to cache results, the positional and keyword arguments to the function must be hashable.\n",
    "\n",
    "Distinct argument patterns may be considered to be distinct calls with separate cache entries. For example, f(a=1, b=2) and f(b=2, a=1) differ in their keyword argument order and may have two separate cache entries.\n",
    "\n",
    "If maxsize is set to None, the LRU feature is disabled and the cache can grow without bound. The LRU feature performs best when maxsize is a power-of-two.\n",
    "\n",
    "If typed is set to true, function arguments of different types will be cached separately. For example, f(3) and f(3.0) will be treated as distinct calls with distinct results.\n",
    "\n",
    "To help measure the effectiveness of the cache and tune the maxsize parameter, the wrapped function is instrumented with a cache_info() function that returns a named tuple showing hits, misses, maxsize and currsize. In a multi-threaded environment, the hits and misses are approximate.\n",
    "\n",
    "The decorator also provides a cache_clear() function for clearing or invalidating the cache.\n",
    "\n",
    "The original underlying function is accessible through the __wrapped__ attribute. This is useful for introspection, for bypassing the cache, or for rewrapping the function with a different cache.\n",
    "\n",
    "An LRU (least recently used) cache works best when the most recent calls are the best predictors of upcoming calls (for example, the most popular articles on a news server tend to change each day). The cache’s size limit assures that the cache does not grow without bound on long-running processes such as web servers.\n",
    "\n",
    "In general, the LRU cache should only be used when you want to reuse previously computed values. Accordingly, it doesn’t make sense to cache functions with side-effects, functions that need to create distinct mutable objects on each call, or impure functions such as time() or random().\n",
    "\n",
    "##### 페이지 교체 알고리즘으로 배웠던 lru 라 비슷하다고 보면 된다. \n",
    "##### 그래서 오랜만에 다시 복습\n",
    "> LRU (Least Recently Used) : 최근에 사용하지 않은 페이지를 교체 <br>\n",
    "LFU (Least Frequently Used) : 사용 횟수가 가장 적은 페이지를 교체 <br>\n",
    "NUR (Not Used Recently) : 최근에 사용하지 않은 페이지를 교체 <br>\n",
    "FIFO(Fisrt In First Out) : 먼저 적재한 페이지부터 교체 <br>\n",
    "MFU(Most Frequently Used) : 사용 횟수가 가장 많은 페이지를 교체 <br>\n",
    "OPT(OPTimal replacement) : 가장 오랫동안 사용하지 않을 것으로 예측한 페이지를 교체 (이상적이지만 구현할 수 없음.) <br>\n",
    "SCR(Second Chance Replacement) : FIFO 기법의 단점을 보완하는 기법으로 교체 대상을 판별하기 전에 참조 비트를 검사하여 1일 때 한 번의 기회를 더 부여\n",
    "참조 비트가 1이면 큐의 맨 뒤로 피드백.\n"
   ]
  },
  {
   "cell_type": "code",
   "execution_count": 34,
   "metadata": {},
   "outputs": [],
   "source": [
    "import urllib\n",
    "@lru_cache(maxsize=32)\n",
    "def get_pep(num):\n",
    "    'Retrieve text of a Python Enghancement Proposal'\n",
    "    resource = 'http://www.python.org/dev/peps/pep-%04d/' % num\n",
    "    try:\n",
    "        with urllib.request.urlopen(resource) as s:\n",
    "            return s.read()\n",
    "    except urllib.error.HTTPError:\n",
    "        return 'Not Found'"
   ]
  },
  {
   "cell_type": "code",
   "execution_count": 35,
   "metadata": {},
   "outputs": [
    {
     "name": "stdout",
     "output_type": "stream",
     "text": [
      "8 105879\n",
      "290 59822\n",
      "308 57028\n",
      "320 49607\n",
      "8 105879\n",
      "218 46851\n",
      "320 49607\n",
      "279 48609\n",
      "289 50938\n",
      "320 49607\n",
      "9991 9\n"
     ]
    }
   ],
   "source": [
    "for n in 8, 290, 308, 320, 8, 218, 320, 279, 289, 320, 9991:\n",
    "    pep = get_pep(n)\n",
    "    print(n, len(pep))"
   ]
  },
  {
   "cell_type": "code",
   "execution_count": 37,
   "metadata": {},
   "outputs": [
    {
     "data": {
      "text/plain": [
       "CacheInfo(hits=3, misses=8, maxsize=32, currsize=8)"
      ]
     },
     "execution_count": 37,
     "metadata": {},
     "output_type": "execute_result"
    }
   ],
   "source": [
    "get_pep.cache_info()"
   ]
  },
  {
   "cell_type": "code",
   "execution_count": 59,
   "metadata": {},
   "outputs": [],
   "source": [
    "@lru_cache(maxsize=None)\n",
    "def fib(n):\n",
    "    if n < 2:\n",
    "        return n\n",
    "    return fib(n-1) + fib(n-2)"
   ]
  },
  {
   "cell_type": "code",
   "execution_count": 63,
   "metadata": {},
   "outputs": [
    {
     "data": {
      "text/plain": [
       "[0, 1, 1, 2, 3, 5, 8, 13, 21, 34, 55, 89, 144, 233, 377, 610]"
      ]
     },
     "execution_count": 63,
     "metadata": {},
     "output_type": "execute_result"
    }
   ],
   "source": [
    "[fib(n) for n in range(16)] # 와... 역시 cache\n",
    "# fibonacci 에서는 lfu 가 더 좋지 않을까... 생각만 해봅니다."
   ]
  },
  {
   "cell_type": "code",
   "execution_count": 64,
   "metadata": {},
   "outputs": [
    {
     "name": "stdout",
     "output_type": "stream",
     "text": [
      "CacheInfo(hits=128, misses=50, maxsize=None, currsize=50)\n"
     ]
    },
    {
     "data": {
      "text/plain": [
       "'설명\\ncache hit: 참조하려는 데이터가 캐시에 존재할 때 캐시 히트라 한다.\\ncache miss: 참조하려는 데이터가 캐시에 존재 하지 않을 때 캐시 미스라 한다.\\ncache hit ratio : 적중률 = (캐시히트횟수) / (전체참조횟수)\\n'"
      ]
     },
     "execution_count": 64,
     "metadata": {},
     "output_type": "execute_result"
    }
   ],
   "source": [
    "print(fib.cache_info())\n",
    "\"\"\"설명\n",
    "cache hit: 참조하려는 데이터가 캐시에 존재할 때 캐시 히트라 한다.\n",
    "cache miss: 참조하려는 데이터가 캐시에 존재 하지 않을 때 캐시 미스라 한다.\n",
    "cache hit ratio : 적중률 = (캐시히트횟수) / (전체참조횟수)\n",
    "\"\"\""
   ]
  },
  {
   "cell_type": "code",
   "execution_count": null,
   "metadata": {},
   "outputs": [],
   "source": []
  }
 ],
 "metadata": {
  "kernelspec": {
   "display_name": "Python 3",
   "language": "python",
   "name": "python3"
  },
  "language_info": {
   "codemirror_mode": {
    "name": "ipython",
    "version": 3
   },
   "file_extension": ".py",
   "mimetype": "text/x-python",
   "name": "python",
   "nbconvert_exporter": "python",
   "pygments_lexer": "ipython3",
   "version": "3.7.3"
  }
 },
 "nbformat": 4,
 "nbformat_minor": 2
}
