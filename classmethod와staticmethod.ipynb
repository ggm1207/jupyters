{
 "cells": [
  {
   "cell_type": "code",
   "execution_count": 1,
   "metadata": {},
   "outputs": [],
   "source": [
    "class Test:\n",
    "    num = 0\n",
    "    \n",
    "    @staticmethod # 클래스에서 직접 접근하며, 객체별로 달라지는 것이 아니라 함께 공유하는 것이다.\n",
    "    def add(x, y): # 정적 메소드이기 때문에 self 를 통한 접근은 불가능하다.\n",
    "        return x + y # + self.num 이런식으로 접근 불가능"
   ]
  },
  {
   "cell_type": "code",
   "execution_count": 2,
   "metadata": {},
   "outputs": [
    {
     "name": "stdout",
     "output_type": "stream",
     "text": [
      "2\n"
     ]
    }
   ],
   "source": [
    "print(Test.add(1,1))"
   ]
  },
  {
   "cell_type": "code",
   "execution_count": 5,
   "metadata": {},
   "outputs": [
    {
     "name": "stdout",
     "output_type": "stream",
     "text": [
      "2\n"
     ]
    }
   ],
   "source": [
    "t = Test()\n",
    "print(t.add(1,1))"
   ]
  },
  {
   "cell_type": "code",
   "execution_count": 11,
   "metadata": {},
   "outputs": [],
   "source": [
    "class Test2:\n",
    "    num = 10\n",
    "    \n",
    "    @classmethod # 거의 동일하지만 한가지 차이가 있다. 클래스 메소드는 클래스 자체를 첫번째 인자로 넣어줘야한다.\n",
    "    def add(self,x,y): # cls 말고 다른 말로 넣어도 됨. self 로 집어넣었음.. 왜 헷갈리게 cls 라 하지\n",
    "        return x + y"
   ]
  },
  {
   "cell_type": "code",
   "execution_count": 12,
   "metadata": {},
   "outputs": [
    {
     "name": "stdout",
     "output_type": "stream",
     "text": [
      "2\n"
     ]
    }
   ],
   "source": [
    "print(Test2.add(1,1)) # cls 를 집어 넣지 않으면 오류 발생"
   ]
  },
  {
   "cell_type": "code",
   "execution_count": 13,
   "metadata": {},
   "outputs": [],
   "source": [
    "class Date:\n",
    "    word = 'date:'\n",
    "    def __init__(self, date):\n",
    "        self.date = self.word + date\n",
    "        \n",
    "    @staticmethod\n",
    "    def now():\n",
    "        return Date(\"today\")\n",
    "    \n",
    "    def show(self):\n",
    "        print(self.date)"
   ]
  },
  {
   "cell_type": "code",
   "execution_count": 14,
   "metadata": {},
   "outputs": [
    {
     "name": "stdout",
     "output_type": "stream",
     "text": [
      "date:2019.09.19\n",
      "date:today\n"
     ]
    }
   ],
   "source": [
    "a = Date(\"2019.09.19\")\n",
    "a.show()\n",
    "b = Date.now()\n",
    "b.show()"
   ]
  },
  {
   "cell_type": "code",
   "execution_count": 16,
   "metadata": {},
   "outputs": [],
   "source": [
    "class KoreanDate(Date): # Date를 상속받는다.\n",
    "    word = '날짜:'"
   ]
  },
  {
   "cell_type": "code",
   "execution_count": 19,
   "metadata": {},
   "outputs": [
    {
     "name": "stdout",
     "output_type": "stream",
     "text": [
      "date:today\n"
     ]
    }
   ],
   "source": [
    "a = KoreanDate.now() # now를 통해서 Date 객체가 생성되었다.\n",
    "a.show()"
   ]
  },
  {
   "cell_type": "code",
   "execution_count": 1,
   "metadata": {},
   "outputs": [],
   "source": [
    "class Date:\n",
    "    word = 'date:'\n",
    "    def __init__(self, date):\n",
    "        self.date = self.word + date\n",
    "        \n",
    "    @classmethod\n",
    "    def now(self):\n",
    "        return self(\"today\")\n",
    "    \n",
    "    def show(self):\n",
    "        print(self.date)"
   ]
  },
  {
   "cell_type": "code",
   "execution_count": 2,
   "metadata": {},
   "outputs": [],
   "source": [
    "class KoreanDate(Date): # Date를 상속받는다.\n",
    "    word = '날짜:'"
   ]
  },
  {
   "cell_type": "code",
   "execution_count": 3,
   "metadata": {},
   "outputs": [
    {
     "name": "stdout",
     "output_type": "stream",
     "text": [
      "날짜:today\n"
     ]
    }
   ],
   "source": [
    "a = KoreanDate.now() # cpp 의 virtual과 비슷하다.\n",
    "a.show()"
   ]
  },
  {
   "cell_type": "code",
   "execution_count": null,
   "metadata": {},
   "outputs": [],
   "source": []
  }
 ],
 "metadata": {
  "kernelspec": {
   "display_name": "Python 3",
   "language": "python",
   "name": "python3"
  },
  "language_info": {
   "codemirror_mode": {
    "name": "ipython",
    "version": 3
   },
   "file_extension": ".py",
   "mimetype": "text/x-python",
   "name": "python",
   "nbconvert_exporter": "python",
   "pygments_lexer": "ipython3",
   "version": "3.7.3"
  }
 },
 "nbformat": 4,
 "nbformat_minor": 2
}
