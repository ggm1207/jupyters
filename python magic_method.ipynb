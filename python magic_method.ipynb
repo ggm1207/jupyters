{
 "cells": [
  {
   "cell_type": "markdown",
   "metadata": {},
   "source": [
    "매직 메소드란?\n",
    "-------------------\n",
    "- 클래스안에 정의할 수 있는 스페셜 메소드이며 클래스를 int, str, list등의 파이썬의 빌트인 타입과 같은 작동을 하게 해준다.\n",
    "- +, -, >, < 등의 오퍼레이터에 대해서 각각의 데이터 타입에 맞는 메소드로 오버로딩하여 백그라운드에서 연산을 한다.\n",
    "- 메소드 이름 앞뒤에 더블 언더스코어(\"__\")를 붙인다.\n",
    "\n",
    "출처 : http://schoolofweb.net/blog/posts/%ED%8C%8C%EC%9D%B4%EC%8D%AC-oop-part-6-%EB%A7%A4%EC%A7%81-%EB%A9%94%EC%86%8C%EB%93%9C-magic-method/"
   ]
  },
  {
   "cell_type": "code",
   "execution_count": 1,
   "metadata": {},
   "outputs": [
    {
     "name": "stdout",
     "output_type": "stream",
     "text": [
      "이름: Pink, 나이: 12\n"
     ]
    }
   ],
   "source": [
    "class Dog(object):\n",
    "    def __init__(self, name, age): # 자동 실행\n",
    "        print('이름: {}, 나이: {}' .format(name, age))\n",
    "        \n",
    "dog_1 = Dog('Pink', '12')"
   ]
  },
  {
   "cell_type": "code",
   "execution_count": 2,
   "metadata": {},
   "outputs": [
    {
     "name": "stdout",
     "output_type": "stream",
     "text": [
      "<class '__main__.MyInt'>\n",
      "True\n",
      "(<class 'int'>,)\n"
     ]
    }
   ],
   "source": [
    "# int를 상속받음\n",
    "class MyInt(int):\n",
    "    pass\n",
    "\n",
    "my_num = MyInt(5)\n",
    "\n",
    "print(type(my_num))\n",
    "print(isinstance(my_num, int)) # int 의 인스턴스이냐 ... 인스턴스 왜 계속 기억이 안나지. a = int(3) a는 int 의 인스턴스\n",
    "print(MyInt.__bases__)"
   ]
  },
  {
   "cell_type": "code",
   "execution_count": 5,
   "metadata": {},
   "outputs": [
    {
     "data": {
      "text/plain": [
       "10"
      ]
     },
     "execution_count": 5,
     "metadata": {},
     "output_type": "execute_result"
    }
   ],
   "source": [
    "my_num + 5 # 실행이 잘 되는 것을 확인할 수 있다."
   ]
  },
  {
   "cell_type": "code",
   "execution_count": 6,
   "metadata": {},
   "outputs": [
    {
     "name": "stdout",
     "output_type": "stream",
     "text": [
      "['__abs__', '__add__', '__and__', '__bool__', '__ceil__', '__class__', '__delattr__', '__dict__', '__dir__', '__divmod__', '__doc__', '__eq__', '__float__', '__floor__', '__floordiv__', '__format__', '__ge__', '__getattribute__', '__getnewargs__', '__gt__', '__hash__', '__index__', '__init__', '__init_subclass__', '__int__', '__invert__', '__le__', '__lshift__', '__lt__', '__mod__', '__module__', '__mul__', '__ne__', '__neg__', '__new__', '__or__', '__pos__', '__pow__', '__radd__', '__rand__', '__rdivmod__', '__reduce__', '__reduce_ex__', '__repr__', '__rfloordiv__', '__rlshift__', '__rmod__', '__rmul__', '__ror__', '__round__', '__rpow__', '__rrshift__', '__rshift__', '__rsub__', '__rtruediv__', '__rxor__', '__setattr__', '__sizeof__', '__str__', '__sub__', '__subclasshook__', '__truediv__', '__trunc__', '__xor__', 'bit_length', 'conjugate', 'denominator', 'from_bytes', 'imag', 'numerator', 'real', 'to_bytes']\n"
     ]
    }
   ],
   "source": [
    "print(dir(my_num)) # 매직 메소드를 가지고 있는지 확인"
   ]
  },
  {
   "cell_type": "code",
   "execution_count": 8,
   "metadata": {},
   "outputs": [],
   "source": [
    "import pprint"
   ]
  },
  {
   "cell_type": "code",
   "execution_count": 13,
   "metadata": {},
   "outputs": [],
   "source": [
    "class MyInt(int):\n",
    "    # add 변경\n",
    "    def __add__(self, other):\n",
    "        return '{} 더하기 {} 는 {} 입니다.' .format(self.real, other.real, self.real + other.real) \n",
    "        "
   ]
  },
  {
   "cell_type": "code",
   "execution_count": 15,
   "metadata": {},
   "outputs": [
    {
     "name": "stdout",
     "output_type": "stream",
     "text": [
      "5 더하기 5 는 10 입니다.\n",
      "10\n"
     ]
    }
   ],
   "source": [
    "my_num = MyInt(5)\n",
    "print(my_num + 5) # MyInt 의 add 실행\n",
    "print(5 + my_num) # Int 의 add 실행"
   ]
  },
  {
   "cell_type": "markdown",
   "metadata": {},
   "source": [
    "# Binary Operators\n",
    "\n",
    "Operator | Method\n",
    ":------------- | ---------------\n",
    "+ | object.__add__(self, other)\n",
    "- | object.__sub__(self, other)\n",
    "* | object.__mul__(self, other)\n",
    "// | object.__floordiv__(self, other)\n",
    "/ | object.__div__(self, other)\n",
    "% | object.__mod__(self, other)\n",
    "** | object.__pow__(self, other[, modulo])\n",
    ">> | object.__lshift__(self, other)\n",
    "<< | object.__rshift__(self, other)\n",
    "& | object.__and__(self, other)\n",
    "^ | object.__xor__(self, other)\n",
    "| | object.__or__(self, other) \n",
    "\n",
    "# Extended Assignments\n",
    "\n",
    "Operator | Method\n",
    ":----------------- | -----------------\n",
    "+= | object.__iadd__(self, other)\n",
    "-= | object.__isub__(self, other)\n",
    "*= | object.__imul__(self, other)\n",
    "/= | object.__idiv__(self, other)\n",
    "//= | object.__ifloordiv__(self, other)\n",
    "%= | object.__imod__(self, other)\n",
    "**= | object.__ipow__(self, other[, modulo])\n",
    "<<= | object.__ilshift__(self, other)\n",
    ">>= | object.__irshift__(self, other)\n",
    "&= | object.__iand__(self, other)\n",
    "^= | object.__ixor__(self, other)\n",
    "|= | object.__ior__(self, other) \n",
    "\n",
    "# Unary Operators\n",
    "Operator | Method\n",
    ":---------------- | ---------------\n",
    "- | object.__neg__(self)\n",
    "+ | object.__pos__(self)\n",
    "abs() | object.__abs__(self)\n",
    "~ | object.__invert__(self)\n",
    "complex() | object.__complex__(self)\n",
    "int() | object.__int__(self)\n",
    "long() | object.__long__(self)\n",
    "float() | object.__float__(self)\n",
    "oct() | object.__oct__(self)\n",
    "hex() | object.__hex__(self) \n",
    "\n",
    "# Comparison Operators\n",
    "Operator | Method\n",
    ":---------------- | ---------------\n",
    "< | object.__lt__(self, other)\n",
    "<= | object.__le__(self, other)\n",
    "== | object.__eq__(self, other)\n",
    "!= | object.__ne__(self, other)\n",
    ">= | object.__ge__(self, other)\n",
    "> | object.__gt__(self, other)"
   ]
  },
  {
   "cell_type": "code",
   "execution_count": 1,
   "metadata": {},
   "outputs": [
    {
     "data": {
      "text/plain": [
       "['In',\n",
       " 'Out',\n",
       " '_',\n",
       " '__',\n",
       " '___',\n",
       " '__builtin__',\n",
       " '__builtins__',\n",
       " '__doc__',\n",
       " '__loader__',\n",
       " '__name__',\n",
       " '__package__',\n",
       " '__spec__',\n",
       " '_dh',\n",
       " '_i',\n",
       " '_i1',\n",
       " '_ih',\n",
       " '_ii',\n",
       " '_iii',\n",
       " '_oh',\n",
       " 'exit',\n",
       " 'get_ipython',\n",
       " 'quit']"
      ]
     },
     "execution_count": 1,
     "metadata": {},
     "output_type": "execute_result"
    }
   ],
   "source": [
    "dir()"
   ]
  },
  {
   "cell_type": "code",
   "execution_count": 2,
   "metadata": {},
   "outputs": [
    {
     "data": {
      "text/plain": [
       "'__main__'"
      ]
     },
     "execution_count": 2,
     "metadata": {},
     "output_type": "execute_result"
    }
   ],
   "source": [
    "__name__"
   ]
  },
  {
   "cell_type": "code",
   "execution_count": 2,
   "metadata": {},
   "outputs": [
    {
     "data": {
      "text/plain": [
       "['', 'IN', 'In']"
      ]
     },
     "execution_count": 2,
     "metadata": {},
     "output_type": "execute_result"
    }
   ],
   "source": [
    "In"
   ]
  },
  {
   "cell_type": "code",
   "execution_count": 3,
   "metadata": {},
   "outputs": [
    {
     "data": {
      "text/plain": [
       "{2: ['', 'IN', 'In', 'Out']}"
      ]
     },
     "execution_count": 3,
     "metadata": {},
     "output_type": "execute_result"
    }
   ],
   "source": [
    "Out"
   ]
  },
  {
   "cell_type": "code",
   "execution_count": 4,
   "metadata": {},
   "outputs": [
    {
     "data": {
      "text/plain": [
       "['', 'IN', 'In', 'Out', '_']"
      ]
     },
     "execution_count": 4,
     "metadata": {},
     "output_type": "execute_result"
    }
   ],
   "source": [
    "_"
   ]
  },
  {
   "cell_type": "code",
   "execution_count": 5,
   "metadata": {},
   "outputs": [
    {
     "data": {
      "text/plain": [
       "['', 'IN', 'In', 'Out', '_', '__']"
      ]
     },
     "execution_count": 5,
     "metadata": {},
     "output_type": "execute_result"
    }
   ],
   "source": [
    "__"
   ]
  },
  {
   "cell_type": "code",
   "execution_count": 6,
   "metadata": {},
   "outputs": [
    {
     "data": {
      "text/plain": [
       "['', 'IN', 'In', 'Out', '_', '__', '___']"
      ]
     },
     "execution_count": 6,
     "metadata": {},
     "output_type": "execute_result"
    }
   ],
   "source": [
    "___"
   ]
  },
  {
   "cell_type": "code",
   "execution_count": 7,
   "metadata": {},
   "outputs": [
    {
     "data": {
      "text/plain": [
       "['', 'IN', 'In', 'Out', '_', '__', '___', '___']"
      ]
     },
     "execution_count": 7,
     "metadata": {},
     "output_type": "execute_result"
    }
   ],
   "source": [
    "___"
   ]
  },
  {
   "cell_type": "code",
   "execution_count": null,
   "metadata": {},
   "outputs": [],
   "source": []
  }
 ],
 "metadata": {
  "kernelspec": {
   "display_name": "Python 3",
   "language": "python",
   "name": "python3"
  },
  "language_info": {
   "codemirror_mode": {
    "name": "ipython",
    "version": 3
   },
   "file_extension": ".py",
   "mimetype": "text/x-python",
   "name": "python",
   "nbconvert_exporter": "python",
   "pygments_lexer": "ipython3",
   "version": "3.7.3"
  }
 },
 "nbformat": 4,
 "nbformat_minor": 2
}
